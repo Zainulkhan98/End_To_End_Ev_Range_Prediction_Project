{
 "cells": [
  {
   "cell_type": "code",
   "execution_count": 4,
   "id": "initial_id",
   "metadata": {
    "collapsed": true,
    "ExecuteTime": {
     "end_time": "2024-04-06T19:37:44.830622Z",
     "start_time": "2024-04-06T19:37:44.047239Z"
    }
   },
   "outputs": [
    {
     "data": {
      "text/plain": "  County_Asotin County_Benton County_Chelan County_Clallam County_Clark  \\\n0           NaN           NaN           NaN            NaN          NaN   \n\n  County_Cowlitz County_Douglas County_Franklin County_Grant  \\\n0            NaN            NaN             NaN          NaN   \n\n  County_Grays Harbor  ... Model_X3 Model_X5 Model_XC40 Model_XC60 Model_XC90  \\\n0                 NaN  ...      NaN      NaN        NaN        NaN        NaN   \n\n  Electric Vehicle Type_Battery Electric Vehicle (BEV)  \\\n0                                                NaN     \n\n  Electric Vehicle Type_Plug-in Hybrid Electric Vehicle (PHEV)  \\\n0                                                NaN             \n\n  Clean Alternative Fuel Vehicle (CAFV) Eligibility_Clean Alternative Fuel Vehicle Eligible  \\\n0                                                NaN                                          \n\n  Clean Alternative Fuel Vehicle (CAFV) Eligibility_Eligibility unknown as battery range has not been researched  \\\n0                                                NaN                                                               \n\n  Clean Alternative Fuel Vehicle (CAFV) Eligibility_Not eligible due to low battery range  \n0                                                NaN                                       \n\n[1 rows x 348 columns]",
      "text/html": "<div>\n<style scoped>\n    .dataframe tbody tr th:only-of-type {\n        vertical-align: middle;\n    }\n\n    .dataframe tbody tr th {\n        vertical-align: top;\n    }\n\n    .dataframe thead th {\n        text-align: right;\n    }\n</style>\n<table border=\"1\" class=\"dataframe\">\n  <thead>\n    <tr style=\"text-align: right;\">\n      <th></th>\n      <th>County_Asotin</th>\n      <th>County_Benton</th>\n      <th>County_Chelan</th>\n      <th>County_Clallam</th>\n      <th>County_Clark</th>\n      <th>County_Cowlitz</th>\n      <th>County_Douglas</th>\n      <th>County_Franklin</th>\n      <th>County_Grant</th>\n      <th>County_Grays Harbor</th>\n      <th>...</th>\n      <th>Model_X3</th>\n      <th>Model_X5</th>\n      <th>Model_XC40</th>\n      <th>Model_XC60</th>\n      <th>Model_XC90</th>\n      <th>Electric Vehicle Type_Battery Electric Vehicle (BEV)</th>\n      <th>Electric Vehicle Type_Plug-in Hybrid Electric Vehicle (PHEV)</th>\n      <th>Clean Alternative Fuel Vehicle (CAFV) Eligibility_Clean Alternative Fuel Vehicle Eligible</th>\n      <th>Clean Alternative Fuel Vehicle (CAFV) Eligibility_Eligibility unknown as battery range has not been researched</th>\n      <th>Clean Alternative Fuel Vehicle (CAFV) Eligibility_Not eligible due to low battery range</th>\n    </tr>\n  </thead>\n  <tbody>\n    <tr>\n      <th>0</th>\n      <td>NaN</td>\n      <td>NaN</td>\n      <td>NaN</td>\n      <td>NaN</td>\n      <td>NaN</td>\n      <td>NaN</td>\n      <td>NaN</td>\n      <td>NaN</td>\n      <td>NaN</td>\n      <td>NaN</td>\n      <td>...</td>\n      <td>NaN</td>\n      <td>NaN</td>\n      <td>NaN</td>\n      <td>NaN</td>\n      <td>NaN</td>\n      <td>NaN</td>\n      <td>NaN</td>\n      <td>NaN</td>\n      <td>NaN</td>\n      <td>NaN</td>\n    </tr>\n  </tbody>\n</table>\n<p>1 rows × 348 columns</p>\n</div>"
     },
     "execution_count": 4,
     "metadata": {},
     "output_type": "execute_result"
    }
   ],
   "source": [
    "from sklearn.impute import SimpleImputer\n",
    "import pandas as pd\n",
    "from Columns import impute_col_most_freq\n",
    "from sklearn.preprocessing import OneHotEncoder, StandardScaler\n",
    "from Columns import categorical_col_encoding, numerical_col_normalize, impute_col_most_freq\n",
    "\n",
    "\n",
    "data = pd.read_csv('F:\\\\Users\\DELL\\PycharmProjects\\End_To_End_Ev_Range_Prediction_Project\\Data\\Electric_Vehicle_Population_Data.csv')\n",
    "df = pd.DataFrame(data.loc[:10000,:])\n",
    "\n",
    "\n",
    "df = df.drop(['Base MSRP','VIN (1-10)','Vehicle Location','Legislative District', 'State','Electric Utility'], axis=1)\n",
    "imputer = SimpleImputer(strategy='most_frequent')  # Instantiate imputer object\n",
    "data[impute_col_most_freq] = imputer.fit_transform(data[impute_col_most_freq])  \n",
    "data[numerical_col_normalize] = StandardScaler().fit_transform(data[numerical_col_normalize])\n",
    "\n",
    "ohe = OneHotEncoder(sparse_output=False, handle_unknown='ignore')\n",
    "encoded_cols = pd.DataFrame(ohe.fit_transform(df[categorical_col_encoding]))\n",
    "all_categories = pd.DataFrame(columns=ohe.get_feature_names_out(), index=[0])\n",
    "\n",
    "\n",
    "        # Drop original categorical columns and concatenate encoded columns\n",
    "# data = data.drop(columns=categorical_col_encoding)\n",
    "# data = pd.concat([data, encoded_cols], axis=1)\n",
    "# data = pd.DataFrame(data)\n",
    "all_categories"
   ]
  },
  {
   "cell_type": "code",
   "outputs": [
    {
     "name": "stdout",
     "output_type": "stream",
     "text": [
      "Index(['VIN (1-10)_1C4JJXP60P', 'VIN (1-10)_1C4JJXP61M',\n",
      "       'VIN (1-10)_1C4JJXP63M', 'VIN (1-10)_1C4JJXP63N',\n",
      "       'VIN (1-10)_1C4JJXP64M', 'VIN (1-10)_1C4JJXP66M',\n",
      "       'VIN (1-10)_1C4JJXP67P', 'VIN (1-10)_1C4JJXP68P',\n",
      "       'VIN (1-10)_1C4JJXP69P', 'VIN (1-10)_1C4JJXP6XP',\n",
      "       ...\n",
      "       '2020 Census Tract_53077000904.0', '2020 Census Tract_53077001602.0',\n",
      "       '2020 Census Tract_53077001702.0', '2020 Census Tract_53077002801.0',\n",
      "       '2020 Census Tract_53077002803.0', '2020 Census Tract_53077002900.0',\n",
      "       '2020 Census Tract_53077003004.0', '2020 Census Tract_53077003100.0',\n",
      "       '2020 Census Tract_53077003400.0', '2020 Census Tract_53077940002.0'],\n",
      "      dtype='object', length=2989)\n"
     ]
    }
   ],
   "source": [
    "ohe = OneHotEncoder(sparse_output=False, handle_unknown='ignore')\n",
    "encoded_cols = pd.DataFrame(ohe.fit_transform(df[categorical_col_encoding]))\n",
    "encoded_cols.columns = ohe.get_feature_names_out(categorical_col_encoding)\n",
    "print(encoded_cols.columns)"
   ],
   "metadata": {
    "collapsed": false,
    "ExecuteTime": {
     "end_time": "2024-04-03T18:25:10.441156Z",
     "start_time": "2024-04-03T18:25:10.407193Z"
    }
   },
   "id": "80e8c4b57efc1780",
   "execution_count": 22
  },
  {
   "cell_type": "code",
   "outputs": [],
   "source": [],
   "metadata": {
    "collapsed": false,
    "ExecuteTime": {
     "end_time": "2024-04-03T18:23:50.246337Z",
     "start_time": "2024-04-03T18:23:50.233638Z"
    }
   },
   "id": "9b15de1d981d907e",
   "execution_count": 19
  }
 ],
 "metadata": {
  "kernelspec": {
   "display_name": "Python 3",
   "language": "python",
   "name": "python3"
  },
  "language_info": {
   "codemirror_mode": {
    "name": "ipython",
    "version": 2
   },
   "file_extension": ".py",
   "mimetype": "text/x-python",
   "name": "python",
   "nbconvert_exporter": "python",
   "pygments_lexer": "ipython2",
   "version": "2.7.6"
  }
 },
 "nbformat": 4,
 "nbformat_minor": 5
}
