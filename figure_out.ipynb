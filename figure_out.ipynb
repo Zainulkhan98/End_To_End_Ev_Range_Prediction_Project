{
 "cells": [
  {
   "cell_type": "code",
   "execution_count": 18,
   "id": "initial_id",
   "metadata": {
    "collapsed": true,
    "ExecuteTime": {
     "end_time": "2024-04-03T18:23:50.125722Z",
     "start_time": "2024-04-03T18:23:49.304564Z"
    }
   },
   "outputs": [
    {
     "data": {
      "text/plain": "0"
     },
     "execution_count": 18,
     "metadata": {},
     "output_type": "execute_result"
    }
   ],
   "source": [
    "import pandas as pd\n",
    "from Columns import categorical_col_encoding\n",
    "from sklearn.preprocessing import OneHotEncoder\n",
    " \n",
    "data = pd.read_csv('Data/Electric_Vehicle_Population_Data.csv')\n",
    "df = pd.DataFrame(data.loc[:1000,:])\n",
    "df['VIN (1-10)'].isnull().sum()"
   ]
  },
  {
   "cell_type": "code",
   "outputs": [
    {
     "name": "stdout",
     "output_type": "stream",
     "text": [
      "Index(['VIN (1-10)_1C4JJXP60P', 'VIN (1-10)_1C4JJXP61M',\n",
      "       'VIN (1-10)_1C4JJXP63M', 'VIN (1-10)_1C4JJXP63N',\n",
      "       'VIN (1-10)_1C4JJXP64M', 'VIN (1-10)_1C4JJXP66M',\n",
      "       'VIN (1-10)_1C4JJXP67P', 'VIN (1-10)_1C4JJXP68P',\n",
      "       'VIN (1-10)_1C4JJXP69P', 'VIN (1-10)_1C4JJXP6XP',\n",
      "       ...\n",
      "       '2020 Census Tract_53077000904.0', '2020 Census Tract_53077001602.0',\n",
      "       '2020 Census Tract_53077001702.0', '2020 Census Tract_53077002801.0',\n",
      "       '2020 Census Tract_53077002803.0', '2020 Census Tract_53077002900.0',\n",
      "       '2020 Census Tract_53077003004.0', '2020 Census Tract_53077003100.0',\n",
      "       '2020 Census Tract_53077003400.0', '2020 Census Tract_53077940002.0'],\n",
      "      dtype='object', length=2989)\n"
     ]
    }
   ],
   "source": [
    "ohe = OneHotEncoder(sparse_output=False, handle_unknown='ignore')\n",
    "encoded_cols = pd.DataFrame(ohe.fit_transform(df[categorical_col_encoding]))\n",
    "encoded_cols.columns = ohe.get_feature_names_out(categorical_col_encoding)\n",
    "print(encoded_cols.columns)"
   ],
   "metadata": {
    "collapsed": false,
    "ExecuteTime": {
     "end_time": "2024-04-03T18:25:10.441156Z",
     "start_time": "2024-04-03T18:25:10.407193Z"
    }
   },
   "id": "80e8c4b57efc1780",
   "execution_count": 22
  },
  {
   "cell_type": "code",
   "outputs": [],
   "source": [],
   "metadata": {
    "collapsed": false,
    "ExecuteTime": {
     "end_time": "2024-04-03T18:23:50.246337Z",
     "start_time": "2024-04-03T18:23:50.233638Z"
    }
   },
   "id": "9b15de1d981d907e",
   "execution_count": 19
  }
 ],
 "metadata": {
  "kernelspec": {
   "display_name": "Python 3",
   "language": "python",
   "name": "python3"
  },
  "language_info": {
   "codemirror_mode": {
    "name": "ipython",
    "version": 2
   },
   "file_extension": ".py",
   "mimetype": "text/x-python",
   "name": "python",
   "nbconvert_exporter": "python",
   "pygments_lexer": "ipython2",
   "version": "2.7.6"
  }
 },
 "nbformat": 4,
 "nbformat_minor": 5
}
